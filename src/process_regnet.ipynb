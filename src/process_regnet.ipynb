{
 "cells": [
  {
   "cell_type": "code",
   "execution_count": 1,
   "id": "bffa0427-0686-472a-bf83-340ef64a344e",
   "metadata": {},
   "outputs": [],
   "source": [
    "import pandas as pd"
   ]
  },
  {
   "cell_type": "code",
   "execution_count": 3,
   "id": "961103a3-ae30-4b7c-b410-5d06ae54a2d1",
   "metadata": {},
   "outputs": [],
   "source": [
    "pathways = {}\n",
    "for line in open('../data/fur-sodA-back-door.tab'):\n",
    "    pathways[line.strip().split('->')[0]] = line.strip().split('->')\n"
   ]
  },
  {
   "cell_type": "code",
   "execution_count": 4,
   "id": "c403c312-8820-4248-b2a6-9d56ac505e50",
   "metadata": {},
   "outputs": [
    {
     "name": "stdout",
     "output_type": "stream",
     "text": [
      "19\n"
     ]
    }
   ],
   "source": [
    "flat_list = [item for sublist in pathways.values() for item in sublist]\n",
    "unique_items = len(set(flat_list))\n",
    "print(unique_items)\n"
   ]
  },
  {
   "cell_type": "code",
   "execution_count": 8,
   "id": "e0e298c5-a05b-4c8e-af8e-512ac7834396",
   "metadata": {},
   "outputs": [
    {
     "data": {
      "text/html": [
       "<div>\n",
       "<style scoped>\n",
       "    .dataframe tbody tr th:only-of-type {\n",
       "        vertical-align: middle;\n",
       "    }\n",
       "\n",
       "    .dataframe tbody tr th {\n",
       "        vertical-align: top;\n",
       "    }\n",
       "\n",
       "    .dataframe thead th {\n",
       "        text-align: right;\n",
       "    }\n",
       "</style>\n",
       "<table border=\"1\" class=\"dataframe\">\n",
       "  <thead>\n",
       "    <tr style=\"text-align: right;\">\n",
       "      <th></th>\n",
       "      <th>Cause</th>\n",
       "      <th>Effect</th>\n",
       "      <th>Regulators</th>\n",
       "      <th>Mediators</th>\n",
       "    </tr>\n",
       "  </thead>\n",
       "  <tbody>\n",
       "    <tr>\n",
       "      <th>0</th>\n",
       "      <td>b0683</td>\n",
       "      <td>b4060</td>\n",
       "      <td>NaN</td>\n",
       "      <td>b4063</td>\n",
       "    </tr>\n",
       "    <tr>\n",
       "      <th>1</th>\n",
       "      <td>b0683</td>\n",
       "      <td>b3908</td>\n",
       "      <td>b4451 // b4062 // b3357</td>\n",
       "      <td>b4063</td>\n",
       "    </tr>\n",
       "    <tr>\n",
       "      <th>2</th>\n",
       "      <td>b0683</td>\n",
       "      <td>b3207</td>\n",
       "      <td>b4062</td>\n",
       "      <td>b4063</td>\n",
       "    </tr>\n",
       "    <tr>\n",
       "      <th>3</th>\n",
       "      <td>b0683</td>\n",
       "      <td>b2600</td>\n",
       "      <td>NaN</td>\n",
       "      <td>b4063</td>\n",
       "    </tr>\n",
       "    <tr>\n",
       "      <th>4</th>\n",
       "      <td>b0683</td>\n",
       "      <td>b2601</td>\n",
       "      <td>NaN</td>\n",
       "      <td>b4063</td>\n",
       "    </tr>\n",
       "    <tr>\n",
       "      <th>...</th>\n",
       "      <td>...</td>\n",
       "      <td>...</td>\n",
       "      <td>...</td>\n",
       "      <td>...</td>\n",
       "    </tr>\n",
       "    <tr>\n",
       "      <th>1113</th>\n",
       "      <td>b0683</td>\n",
       "      <td>b2153</td>\n",
       "      <td>NaN</td>\n",
       "      <td>b3938</td>\n",
       "    </tr>\n",
       "    <tr>\n",
       "      <th>1114</th>\n",
       "      <td>b0683</td>\n",
       "      <td>b2152</td>\n",
       "      <td>NaN</td>\n",
       "      <td>b3938</td>\n",
       "    </tr>\n",
       "    <tr>\n",
       "      <th>1115</th>\n",
       "      <td>b0683</td>\n",
       "      <td>b0197</td>\n",
       "      <td>NaN</td>\n",
       "      <td>b3938</td>\n",
       "    </tr>\n",
       "    <tr>\n",
       "      <th>1116</th>\n",
       "      <td>b0683</td>\n",
       "      <td>b0198</td>\n",
       "      <td>NaN</td>\n",
       "      <td>b3938</td>\n",
       "    </tr>\n",
       "    <tr>\n",
       "      <th>1117</th>\n",
       "      <td>b0683</td>\n",
       "      <td>b0199</td>\n",
       "      <td>NaN</td>\n",
       "      <td>b3938</td>\n",
       "    </tr>\n",
       "  </tbody>\n",
       "</table>\n",
       "<p>1118 rows × 4 columns</p>\n",
       "</div>"
      ],
      "text/plain": [
       "      Cause Effect               Regulators Mediators\n",
       "0     b0683  b4060                      NaN     b4063\n",
       "1     b0683  b3908  b4451 // b4062 // b3357     b4063\n",
       "2     b0683  b3207                    b4062     b4063\n",
       "3     b0683  b2600                      NaN     b4063\n",
       "4     b0683  b2601                      NaN     b4063\n",
       "...     ...    ...                      ...       ...\n",
       "1113  b0683  b2153                      NaN     b3938\n",
       "1114  b0683  b2152                      NaN     b3938\n",
       "1115  b0683  b0197                      NaN     b3938\n",
       "1116  b0683  b0198                      NaN     b3938\n",
       "1117  b0683  b0199                      NaN     b3938\n",
       "\n",
       "[1118 rows x 4 columns]"
      ]
     },
     "execution_count": 8,
     "metadata": {},
     "output_type": "execute_result"
    }
   ],
   "source": [
    "fur_front = pd.read_table('../data/fur-front-door.tab', sep='\\t')\n",
    "fur_front"
   ]
  },
  {
   "cell_type": "code",
   "execution_count": 20,
   "id": "a39fd987-15f0-4e5e-810a-b2f0c8dcdc30",
   "metadata": {},
   "outputs": [
    {
     "ename": "TypeError",
     "evalue": "ufunc 'isnan' not supported for the input types, and the inputs could not be safely coerced to any supported types according to the casting rule ''safe''",
     "output_type": "error",
     "traceback": [
      "\u001b[0;31m---------------------------------------------------------------------------\u001b[0m",
      "\u001b[0;31mTypeError\u001b[0m                                 Traceback (most recent call last)",
      "\u001b[0;32m/var/folders/z1/nhct2gps3y94tkbwqvvd7y_jw6p1l8/T/ipykernel_73899/3303839769.py\u001b[0m in \u001b[0;36m<module>\u001b[0;34m\u001b[0m\n\u001b[1;32m      1\u001b[0m \u001b[0;32mimport\u001b[0m \u001b[0mnumpy\u001b[0m \u001b[0;32mas\u001b[0m \u001b[0mnp\u001b[0m\u001b[0;34m\u001b[0m\u001b[0;34m\u001b[0m\u001b[0m\n\u001b[0;32m----> 2\u001b[0;31m \u001b[0mnp\u001b[0m\u001b[0;34m.\u001b[0m\u001b[0misnan\u001b[0m\u001b[0;34m(\u001b[0m\u001b[0mfur_front\u001b[0m\u001b[0;34m.\u001b[0m\u001b[0mloc\u001b[0m\u001b[0;34m[\u001b[0m\u001b[0;36m2\u001b[0m\u001b[0;34m,\u001b[0m\u001b[0;34m'Regulators'\u001b[0m\u001b[0;34m]\u001b[0m\u001b[0;34m)\u001b[0m\u001b[0;34m\u001b[0m\u001b[0;34m\u001b[0m\u001b[0m\n\u001b[0m",
      "\u001b[0;31mTypeError\u001b[0m: ufunc 'isnan' not supported for the input types, and the inputs could not be safely coerced to any supported types according to the casting rule ''safe''"
     ]
    }
   ],
   "source": [
    "import numpy as np\n",
    "fur_front.loc[2,'Regulators']\n"
   ]
  },
  {
   "cell_type": "code",
   "execution_count": 25,
   "id": "721abaee-81f6-4f7f-8875-ee9120a8f274",
   "metadata": {},
   "outputs": [],
   "source": [
    "with open('all-fur.lisp', 'w') as fur:\n",
    "\n",
    "    for i in fur_front.dropna(subset=['Regulators', 'Mediators']).index:\n",
    "            cause = fur_front.loc[i, 'Cause']\n",
    "            effect = fur_front.loc[i,'Effect']\n",
    "            fur.write(f\"\"\"(print-back-door-dagitty \"../data/{cause}-{effect}-back-door.tab\"  \n",
    "        (gethash \"{cause}\" *blattner*)\n",
    "        (gethash \"{effect}\" *blattner*)\n",
    "        (get-class-all-instances '|Genes|)\n",
    "        1\n",
    "        #'get-symbol)\\n\"\"\")\n",
    "        "
   ]
  }
 ],
 "metadata": {
  "kernelspec": {
   "display_name": "anaconda3-2021.11",
   "language": "python",
   "name": "anaconda3-2021.11"
  },
  "language_info": {
   "codemirror_mode": {
    "name": "ipython",
    "version": 3
   },
   "file_extension": ".py",
   "mimetype": "text/x-python",
   "name": "python",
   "nbconvert_exporter": "python",
   "pygments_lexer": "ipython3",
   "version": "3.9.7"
  }
 },
 "nbformat": 4,
 "nbformat_minor": 5
}
